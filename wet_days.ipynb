{
 "cells": [
  {
   "cell_type": "code",
   "execution_count": 1,
   "id": "a7927fb6",
   "metadata": {},
   "outputs": [],
   "source": [
    "import xarray as xr\n",
    "import numpy as np"
   ]
  },
  {
   "cell_type": "code",
   "execution_count": 3,
   "id": "8c8156cb",
   "metadata": {},
   "outputs": [],
   "source": [
    "#Choosing only wet days from both files (wet days definition below)"
   ]
  },
  {
   "cell_type": "markdown",
   "id": "e3a3d4d7",
   "metadata": {},
   "source": [
    "#conditioning choice of wet days(for further analysis via the /Downscaling/Downscaling_Data_Prep repo) upon the coarse scale\n",
    "i.e wet days : for each pixel, only choosing the days when RhiresD >=0.1 mm\n"
   ]
  },
  {
   "cell_type": "markdown",
   "id": "11a933a9",
   "metadata": {},
   "source": [
    "Achieved using function wet_days_filter.py"
   ]
  },
  {
   "cell_type": "code",
   "execution_count": 4,
   "id": "18a21173",
   "metadata": {},
   "outputs": [],
   "source": [
    "from wet_days_filter import filter_wet_days"
   ]
  },
  {
   "cell_type": "code",
   "execution_count": 5,
   "id": "8b2fb6b7",
   "metadata": {},
   "outputs": [],
   "source": [
    "#Filtering high res precipitation, temperature and coarse temperature (all three ) based on coarse precipitation"
   ]
  },
  {
   "cell_type": "markdown",
   "id": "73ae7045",
   "metadata": {},
   "source": [
    "Filtering high res precip"
   ]
  },
  {
   "cell_type": "code",
   "execution_count": null,
   "id": "92773294",
   "metadata": {},
   "outputs": [],
   "source": [
    "file1= \"\"\n",
    "file2= \"\"\n",
    "output_path= \"\"\n",
    "var_1= \"RhiresD\"\n",
    "var_2=\"TabsD\""
   ]
  },
  {
   "cell_type": "code",
   "execution_count": null,
   "id": "f8b64ecc",
   "metadata": {},
   "outputs": [],
   "source": [
    "filter_wet_days(file1, file2, output_path,var_1, var_2, threshold=0.1)"
   ]
  }
 ],
 "metadata": {
  "kernelspec": {
   "display_name": "MyPythonEnvironment",
   "language": "python",
   "name": "python3"
  },
  "language_info": {
   "codemirror_mode": {
    "name": "ipython",
    "version": 3
   },
   "file_extension": ".py",
   "mimetype": "text/x-python",
   "name": "python",
   "nbconvert_exporter": "python",
   "pygments_lexer": "ipython3",
   "version": "3.12.1"
  }
 },
 "nbformat": 4,
 "nbformat_minor": 5
}
