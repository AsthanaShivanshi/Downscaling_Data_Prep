{
 "cells": [
  {
   "cell_type": "code",
   "execution_count": 11,
   "id": "5eff9375",
   "metadata": {},
   "outputs": [],
   "source": [
    "import xarray as xr"
   ]
  },
  {
   "cell_type": "code",
   "execution_count": 12,
   "id": "79461ce4",
   "metadata": {},
   "outputs": [],
   "source": [
    "a=xr.open_dataset(\"RhiresD_011deg_coarsened.nc\")[\"RhiresD\"]"
   ]
  },
  {
   "cell_type": "code",
   "execution_count": 13,
   "id": "59c91e7b",
   "metadata": {},
   "outputs": [
    {
     "data": {
      "text/plain": [
       "(19358, 22, 34)"
      ]
     },
     "execution_count": 13,
     "metadata": {},
     "output_type": "execute_result"
    }
   ],
   "source": [
    "a.shape"
   ]
  },
  {
   "cell_type": "code",
   "execution_count": 14,
   "id": "a5a4565f",
   "metadata": {},
   "outputs": [],
   "source": [
    "b=xr.open_dataset(\"TabsD_011deg_coarsened.nc\")[\"TabsD\"]"
   ]
  },
  {
   "cell_type": "code",
   "execution_count": 15,
   "id": "e5fb1b8e",
   "metadata": {},
   "outputs": [
    {
     "data": {
      "text/plain": [
       "(19358, 22, 34)"
      ]
     },
     "execution_count": 15,
     "metadata": {},
     "output_type": "execute_result"
    }
   ],
   "source": [
    "b.shape"
   ]
  },
  {
   "cell_type": "code",
   "execution_count": 16,
   "id": "a99de6d3",
   "metadata": {},
   "outputs": [],
   "source": [
    "c=xr.open_dataset(\"/work/FAC/FGSE/IDYST/tbeucler/downscaling/sasthana/Downscaling/Downscaling_Data_Prep/TmaxD_011deg_coarsened.nc\")[\"TmaxD\"]"
   ]
  },
  {
   "cell_type": "code",
   "execution_count": 17,
   "id": "c9991203",
   "metadata": {},
   "outputs": [
    {
     "data": {
      "text/plain": [
       "(19358, 22, 34)"
      ]
     },
     "execution_count": 17,
     "metadata": {},
     "output_type": "execute_result"
    }
   ],
   "source": [
    "c.shape"
   ]
  },
  {
   "cell_type": "code",
   "execution_count": 18,
   "id": "84c37c9b",
   "metadata": {},
   "outputs": [
    {
     "data": {
      "text/plain": [
       "(19358, 240, 370)"
      ]
     },
     "execution_count": 18,
     "metadata": {},
     "output_type": "execute_result"
    }
   ],
   "source": [
    "d=xr.open_dataset(\"/work/FAC/FGSE/IDYST/tbeucler/downscaling/sasthana/Downscaling/Downscaling_Data_Prep/TabsD_1971_2023.nc\")[\"TabsD\"]\n",
    "d.shape"
   ]
  },
  {
   "cell_type": "code",
   "execution_count": 19,
   "id": "228abc0d",
   "metadata": {},
   "outputs": [
    {
     "data": {
      "text/plain": [
       "(19358, 240, 370)"
      ]
     },
     "execution_count": 19,
     "metadata": {},
     "output_type": "execute_result"
    }
   ],
   "source": [
    "e=xr.open_dataset(\"/work/FAC/FGSE/IDYST/tbeucler/downscaling/sasthana/Downscaling/Downscaling_Data_Prep/RhiresD_1971_2023.nc\")[\"RhiresD\"]\n",
    "e.shape"
   ]
  }
 ],
 "metadata": {
  "kernelspec": {
   "display_name": "Python 3",
   "language": "python",
   "name": "python3"
  },
  "language_info": {
   "codemirror_mode": {
    "name": "ipython",
    "version": 3
   },
   "file_extension": ".py",
   "mimetype": "text/x-python",
   "name": "python",
   "nbconvert_exporter": "python",
   "pygments_lexer": "ipython3",
   "version": "3.10.17"
  }
 },
 "nbformat": 4,
 "nbformat_minor": 5
}
