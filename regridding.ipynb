{
 "cells": [
  {
   "cell_type": "code",
   "execution_count": 1,
   "id": "4bbcfbf3",
   "metadata": {},
   "outputs": [],
   "source": [
    "import xarray as xr\n",
    "import numpy as np"
   ]
  },
  {
   "cell_type": "markdown",
   "id": "3a347b37",
   "metadata": {},
   "source": [
    "Conservative Coarseninf via Area Weighted Block Averagibg without paying any heed to the target grid here"
   ]
  },
  {
   "cell_type": "markdown",
   "id": "65b6d751",
   "metadata": {},
   "source": [
    "I selected a block size (e.g 11×11) to aggregate fine-grid cells into a single coarse cell. However, to do this, i dont take a simple average, but an area weighted averagfe based on estimate grid cell areas using coa(latitude) latitude, which is more appropriate for small lat/lon patches. \n"
   ]
  },
  {
   "cell_type": "markdown",
   "id": "fefe5355",
   "metadata": {},
   "source": [
    "This method is relatively simplistic but the SCRIP grid generation was a nightmare. It is just rehsapiung and averaging, no global interpolation matrix. Blocks sizes adjustables, no need for SCRIP or CDO compliant grids"
   ]
  },
  {
   "cell_type": "code",
   "execution_count": 2,
   "id": "29d89a0a",
   "metadata": {},
   "outputs": [],
   "source": [
    "from regridding_II import conservative_coarsening"
   ]
  },
  {
   "cell_type": "markdown",
   "id": "8671703a",
   "metadata": {},
   "source": [
    "for RhiresD : coarsening to 0.11 degrees"
   ]
  },
  {
   "cell_type": "code",
   "execution_count": 3,
   "id": "aa73219b",
   "metadata": {},
   "outputs": [
    {
     "name": "stdout",
     "output_type": "stream",
     "text": [
      "projected grid (E/N) ,, using simple arithmetic mean over every NxN block\n"
     ]
    }
   ],
   "source": [
    "coarsened_rhiresd = conservative_coarsening(\n",
    "    infile=\"RhiresD_1971_2023.nc\",\n",
    "    varname=\"RhiresD\",\n",
    "    block_size=11,\n",
    "    outfile=\"RhiresD_011deg_coarsened.nc\"\n",
    ")"
   ]
  },
  {
   "cell_type": "markdown",
   "id": "f9e0a1ad",
   "metadata": {},
   "source": [
    "for TabsD : coarsening to 0.11 degrees"
   ]
  },
  {
   "cell_type": "code",
   "execution_count": 4,
   "id": "4fd974e3",
   "metadata": {},
   "outputs": [
    {
     "name": "stdout",
     "output_type": "stream",
     "text": [
      "projected grid (E/N) ,, using simple arithmetic mean over every NxN block\n"
     ]
    }
   ],
   "source": [
    "coarsened_tabsd = conservative_coarsening(\n",
    "    infile=\"TabsD_1971_2023.nc\",\n",
    "    varname=\"TabsD\",\n",
    "    block_size=11,\n",
    "    outfile=\"TabsD_011deg_coarsened.nc\"\n",
    ")"
   ]
  },
  {
   "cell_type": "code",
   "execution_count": 3,
   "id": "6e4c04d8",
   "metadata": {},
   "outputs": [
    {
     "name": "stdout",
     "output_type": "stream",
     "text": [
      "(18993, 25, 34)\n"
     ]
    }
   ],
   "source": [
    "print(coarsened_rhiresd.shape)\n"
   ]
  },
  {
   "cell_type": "code",
   "execution_count": 5,
   "id": "5992031d",
   "metadata": {},
   "outputs": [
    {
     "name": "stdout",
     "output_type": "stream",
     "text": [
      "(18993, 25, 34)\n"
     ]
    }
   ],
   "source": [
    "print(coarsened_tabsd.shape)"
   ]
  },
  {
   "cell_type": "markdown",
   "id": "63f3c54f",
   "metadata": {},
   "source": [
    "Doing the Tmax and Tmin coarsening using the same function"
   ]
  },
  {
   "cell_type": "code",
   "execution_count": null,
   "id": "90cf05eb",
   "metadata": {},
   "outputs": [],
   "source": [
    "coarsened_tmind = conservative_coarsening(\n",
    "    infile=\"TminD_1971_2023.nc\",\n",
    "    varname=\"TminD\",\n",
    "    block_size=11,\n",
    "    outfile=\"TminD_011deg_coarsened.nc\"\n",
    ")"
   ]
  },
  {
   "cell_type": "code",
   "execution_count": 3,
   "id": "f1f31691",
   "metadata": {},
   "outputs": [
    {
     "name": "stdout",
     "output_type": "stream",
     "text": [
      "projected grid (E/N) ,, using simple arithmetic mean over every NxN block\n"
     ]
    }
   ],
   "source": [
    "coarsened_tmind = conservative_coarsening(\n",
    "    infile=\"TmaxD_1971_2023.nc\",\n",
    "    varname=\"TmaxD\",\n",
    "    block_size=11,\n",
    "    outfile=\"TmaxD_011deg_coarsened.nc\"\n",
    ")"
   ]
  }
 ],
 "metadata": {
  "kernelspec": {
   "display_name": "Python 3",
   "language": "python",
   "name": "python3"
  },
  "language_info": {
   "codemirror_mode": {
    "name": "ipython",
    "version": 3
   },
   "file_extension": ".py",
   "mimetype": "text/x-python",
   "name": "python",
   "nbconvert_exporter": "python",
   "pygments_lexer": "ipython3",
   "version": "3.10.17"
  }
 },
 "nbformat": 4,
 "nbformat_minor": 5
}
