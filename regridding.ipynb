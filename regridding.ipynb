{
 "cells": [
  {
   "cell_type": "code",
   "execution_count": 51,
   "id": "4bbcfbf3",
   "metadata": {},
   "outputs": [],
   "source": [
    "import xarray as xr\n",
    "import numpy as np"
   ]
  },
  {
   "cell_type": "markdown",
   "id": "3a347b37",
   "metadata": {},
   "source": [
    "Conservative Coarseninf via Area Weighted Mean without paying any heed to the target grid here"
   ]
  },
  {
   "cell_type": "code",
   "execution_count": 56,
   "id": "29d89a0a",
   "metadata": {},
   "outputs": [],
   "source": [
    "from regridding_II import coarsen_file_conservatively"
   ]
  },
  {
   "cell_type": "markdown",
   "id": "8671703a",
   "metadata": {},
   "source": [
    "for RhiresD : coarsening to 0.11 degrees"
   ]
  },
  {
   "cell_type": "code",
   "execution_count": 60,
   "id": "aa73219b",
   "metadata": {},
   "outputs": [],
   "source": [
    "coarsened_rhiresd = coarsen_file_conservatively(\n",
    "    infile=\"RhiresD_1971_2022.nc\",\n",
    "    varname=\"RhiresD\",\n",
    "    block_size=11,\n",
    "    outfile=\"RhiresD_011deg_coarsened.nc\"\n",
    ")\n"
   ]
  },
  {
   "cell_type": "markdown",
   "id": "f9e0a1ad",
   "metadata": {},
   "source": [
    "for TabsD : coarsening to 0.11 degrees"
   ]
  },
  {
   "cell_type": "code",
   "execution_count": 61,
   "id": "4fd974e3",
   "metadata": {},
   "outputs": [],
   "source": [
    "coarsened_tabsd = coarsen_file_conservatively(\n",
    "    infile=\"TabsD_1971_2022.nc\",\n",
    "    varname=\"TabsD\",\n",
    "    block_size=11,\n",
    "    outfile=\"TabsD_011deg_coarsened.nc\"\n",
    ")"
   ]
  },
  {
   "cell_type": "code",
   "execution_count": 62,
   "id": "f233ec0c",
   "metadata": {},
   "outputs": [
    {
     "name": "stdout",
     "output_type": "stream",
     "text": [
      "(18993, 24, 33)\n"
     ]
    }
   ],
   "source": [
    "print(coarsened_rhiresd.shape)"
   ]
  },
  {
   "cell_type": "code",
   "execution_count": 63,
   "id": "5992031d",
   "metadata": {},
   "outputs": [
    {
     "name": "stdout",
     "output_type": "stream",
     "text": [
      "(18993, 24, 33)\n"
     ]
    }
   ],
   "source": [
    "print(coarsened_tabsd.shape)"
   ]
  }
 ],
 "metadata": {
  "kernelspec": {
   "display_name": "Python 3",
   "language": "python",
   "name": "python3"
  },
  "language_info": {
   "codemirror_mode": {
    "name": "ipython",
    "version": 3
   },
   "file_extension": ".py",
   "mimetype": "text/x-python",
   "name": "python",
   "nbconvert_exporter": "python",
   "pygments_lexer": "ipython3",
   "version": "3.10.17"
  }
 },
 "nbformat": 4,
 "nbformat_minor": 5
}
