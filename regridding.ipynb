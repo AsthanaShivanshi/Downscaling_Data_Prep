{
 "cells": [
  {
   "cell_type": "code",
   "execution_count": 51,
   "id": "4bbcfbf3",
   "metadata": {},
   "outputs": [],
   "source": [
    "import xarray as xr\n",
    "import numpy as np"
   ]
  },
  {
   "cell_type": "markdown",
   "id": "3a347b37",
   "metadata": {},
   "source": [
    "Conservative Coarseninf via Area Weighted Mean without paying any heed to the target grid here"
   ]
  },
  {
   "cell_type": "code",
   "execution_count": null,
   "id": "2a822c3c",
   "metadata": {},
   "outputs": [],
   "source": [
    "def conservative_area_weighted_coarsen(pr, lat2d, lon2d, nlat_block, nlon_block):\n",
    "    \"\"\"\n",
    "    Conservatively coarsen a 2D or 3D field using area-weighted averaging on a 2D curvilinear grid.\n",
    "\n",
    "    Parameters:\n",
    "        pr : xr.DataArray (time, y, x) or (y, x)\n",
    "        lat2d, lon2d : 2D latitude and longitude arrays (same shape as pr)\n",
    "        nlat_block, nlon_block : int, coarsening factor in lat/lon directions\n",
    "\n",
    "    Returns:\n",
    "        xr.DataArray: coarsened field\n",
    "    \"\"\"\n",
    "    R = 6371000  # Earth radius in meters\n",
    "\n",
    "    # Handle optional time dimension\n",
    "    has_time = 'time' in pr.dims\n",
    "    if not has_time:\n",
    "        pr = pr.expand_dims('time')\n",
    "\n",
    "    nt, ny, nx = pr.shape\n",
    "\n",
    "    # Trim to fit exact block sizes\n",
    "    ny_trim = (ny // nlat_block) * nlat_block\n",
    "    nx_trim = (nx // nlon_block) * nlon_block\n",
    "\n",
    "    pr = pr[:, :ny_trim, :nx_trim]\n",
    "    lat2d = lat2d[:ny_trim, :nx_trim]\n",
    "    lon2d = lon2d[:ny_trim, :nx_trim]\n",
    "\n",
    "    # Compute approximate area per grid cell (cos(lat) scaling)\n",
    "    dlat = np.deg2rad(np.diff(lat2d[:, 0]).mean())\n",
    "    dlon = np.deg2rad(np.diff(lon2d[0, :]).mean())\n",
    "    area = (R ** 2) * dlat * dlon * np.cos(np.deg2rad(lat2d))\n",
    "\n",
    "    # Reshape into blocks\n",
    "    pr_vals = pr.values\n",
    "    area_vals = area\n",
    "\n",
    "    pr_blocks = pr_vals.reshape(\n",
    "        nt, ny_trim // nlat_block, nlat_block,\n",
    "        nx_trim // nlon_block, nlon_block\n",
    "    )\n",
    "\n",
    "    area_blocks = area_vals.reshape(\n",
    "        ny_trim // nlat_block, nlat_block,\n",
    "        nx_trim // nlon_block, nlon_block\n",
    "    )\n",
    "\n",
    "    # Compute area-weighted average\n",
    "    weighted_sum = (pr_blocks * area_blocks).sum(axis=(2, 4))\n",
    "    total_area = area_blocks.sum(axis=(1, 3))\n",
    "    pr_coarse = weighted_sum / total_area\n",
    "\n",
    "    # Coarsen lat/lon for coordinates\n",
    "    lat_blocks = lat2d.reshape(ny_trim // nlat_block, nlat_block,\n",
    "                               nx_trim // nlon_block, nlon_block)\n",
    "    lon_blocks = lon2d.reshape(ny_trim // nlat_block, nlat_block,\n",
    "                               nx_trim // nlon_block, nlon_block)\n",
    "\n",
    "    lat_coarse = lat_blocks.mean(axis=(1, 3))\n",
    "    lon_coarse = lon_blocks.mean(axis=(1, 3))\n",
    "\n",
    "    coords = {\n",
    "        'lat': (['y', 'x'], lat_coarse),\n",
    "        'lon': (['y', 'x'], lon_coarse),\n",
    "    }\n",
    "\n",
    "    if has_time:\n",
    "        coords['time'] = pr['time']\n",
    "        dims = ('time', 'y', 'x')\n",
    "    else:\n",
    "        pr_coarse = pr_coarse.squeeze()\n",
    "        dims = ('y', 'x')\n",
    "\n",
    "    return xr.DataArray(pr_coarse, coords=coords, dims=dims, name=pr.name)\n"
   ]
  },
  {
   "cell_type": "code",
   "execution_count": 46,
   "id": "19ed4d0f",
   "metadata": {},
   "outputs": [],
   "source": [
    "block_size = 11  # 0.11 degrees from ~1km\n",
    "pr_coarse2 = conservative_area_weighted_coarsen(\n",
    "    ds['RhiresD'],\n",
    "    ds['lat'].values,\n",
    "    ds['lon'].values,\n",
    "    block_size, block_size\n",
    ")\n"
   ]
  },
  {
   "cell_type": "code",
   "execution_count": 50,
   "id": "f7e9ecf5",
   "metadata": {},
   "outputs": [],
   "source": [
    "pr_coarse2.to_netcdf(\"RhiresD_coarsened_typ2_011deg.nc\")"
   ]
  }
 ],
 "metadata": {
  "kernelspec": {
   "display_name": "Python 3",
   "language": "python",
   "name": "python3"
  },
  "language_info": {
   "codemirror_mode": {
    "name": "ipython",
    "version": 3
   },
   "file_extension": ".py",
   "mimetype": "text/x-python",
   "name": "python",
   "nbconvert_exporter": "python",
   "pygments_lexer": "ipython3",
   "version": "3.10.17"
  }
 },
 "nbformat": 4,
 "nbformat_minor": 5
}
